{
 "cells": [
  {
   "cell_type": "markdown",
   "metadata": {},
   "source": [
    "# 주제 : imdb 탑1000의 영화 크롤링\n",
    "# 목적 : 제목길이와 평점에 따른 년도 분석\n",
    "# 제출처 : "
   ]
  },
  {
   "cell_type": "markdown",
   "metadata": {},
   "source": [
    "# 제목\n",
    "\n"
   ]
  },
  {
   "cell_type": "code",
   "execution_count": null,
   "metadata": {
    "scrolled": false
   },
   "outputs": [],
   "source": []
  },
  {
   "cell_type": "code",
   "execution_count": null,
   "metadata": {
    "scrolled": true
   },
   "outputs": [],
   "source": []
  },
  {
   "cell_type": "code",
   "execution_count": 1,
   "metadata": {},
   "outputs": [
    {
     "data": {
      "text/html": [
       "<style>.container { font-weight: bold !important; }</style>"
      ],
      "text/plain": [
       "<IPython.core.display.HTML object>"
      ]
     },
     "metadata": {},
     "output_type": "display_data"
    },
    {
     "data": {
      "text/html": [
       "<style>.container { width: 98% !important; }</style>"
      ],
      "text/plain": [
       "<IPython.core.display.HTML object>"
      ]
     },
     "metadata": {},
     "output_type": "display_data"
    }
   ],
   "source": [
    "# 주피터 노트북 환경설정\n",
    "import warnings\n",
    "warnings.filterwarnings('ignore')\n",
    "warnings.simplefilter('ignore')\n",
    "\n",
    "from IPython.display import set_matplotlib_formats\n",
    "set_matplotlib_formats(\"retina\")\n",
    "\n",
    "from IPython.display import Image\n",
    "\n",
    "from IPython.core.display import display, HTML\n",
    "display(HTML(\"<style>.container { font-weight: bold !important; }</style>\"))\n",
    "display(HTML(\"<style>.container { width: 98% !important; }</style>\"))\n"
   ]
  },
  {
   "cell_type": "code",
   "execution_count": 2,
   "metadata": {},
   "outputs": [],
   "source": [
    "import numpy as np\n",
    "import pandas as pd\n",
    "import matplotlib\n",
    "import matplotlib.pyplot as plt\n",
    "import seaborn as sns\n",
    "%matplotlib inline\n",
    "plt.rcParams['font.size'] = 12.0\n",
    "plt.rcParams['font.family'] = 'Malgun Gothic'"
   ]
  },
  {
   "cell_type": "code",
   "execution_count": null,
   "metadata": {},
   "outputs": [],
   "source": []
  },
  {
   "cell_type": "markdown",
   "metadata": {},
   "source": [
    "# 데이터 분석 과정 \n",
    "\n",
    "- 모듈 임포트 \n",
    "- 데이타 수집 (학습데이타)\n",
    "- 데이터 탐색\n",
    "- 데이타 전처리 \n",
    "- 데이터 학습 (모델화)\n",
    "- 데이터 예측 (테스트데이타)\n",
    "- 데이터 테스트 (정답률)\n",
    "- + 시각화 화면 제시 "
   ]
  },
  {
   "cell_type": "code",
   "execution_count": 3,
   "metadata": {},
   "outputs": [],
   "source": [
    "# 학습기 모듈 \n",
    "# from sklearn.neighbors import KNeighborsClassifier\n",
    "# from sklearn.tree import DecisionTreeClassifier\n",
    "# from sklearn.ensemble import RandomForestClassifier\n",
    "# from sklearn.naive_bayes import GaussianNB\n",
    "from sklearn.svm import SVC"
   ]
  },
  {
   "cell_type": "code",
   "execution_count": 4,
   "metadata": {},
   "outputs": [],
   "source": [
    "# 학습데이터와 데스트 전용 데이터로 분할하는 메서드 \n",
    "from sklearn.model_selection import train_test_split\n",
    "from sklearn.metrics import accuracy_score"
   ]
  },
  {
   "cell_type": "markdown",
   "metadata": {},
   "source": [
    "# 데이터수집\n",
    "#### 클로링 방법을 이용하여 수집 함\n",
    "#### py 로 작성하여 됨."
   ]
  },
  {
   "cell_type": "code",
   "execution_count": null,
   "metadata": {},
   "outputs": [],
   "source": []
  },
  {
   "cell_type": "code",
   "execution_count": 59,
   "metadata": {},
   "outputs": [],
   "source": [
    "from requests import get\n",
    "from bs4 import BeautifulSoup\n",
    "import csv, sqlite3, re\n",
    "\n",
    "def create_csv():\n",
    "    with open('top_1000.csv', 'w',-1, \"utf-8\") as csvfile:\n",
    "        \n",
    "        fieldnames = ['title', 'year', 'director', 'cast', 'imdb_rating']\n",
    "        writer = csv.DictWriter(csvfile, fieldnames=fieldnames)\n",
    "        writer.writeheader()\n",
    "        \n",
    "        pages = [str(i) for i in range(1, 21)]\n",
    "        for page in pages:\n",
    "            url = 'http://www.imdb.com/search/title?groups=top_1000&sort=user_rating&view=simple&page=' + page\n",
    "            response = get(url)\n",
    "            \n",
    "            html_soup = BeautifulSoup(response.text, 'html.parser')\n",
    "           \n",
    "            movie_containers = html_soup.find_all('div', class_ = 'lister-col-wrapper')\n",
    "            for container in movie_containers:\n",
    "                header = container.find('span', class_ = 'lister-item-header')\n",
    "                info = header.find_all('span')[1]\n",
    "                title = info.a.text\n",
    "                people = info['title']\n",
    "                director = people[:people.find('(')].strip()\n",
    "                cast = people[people.find(')')+2:].strip()\n",
    "                year = info.find('span', class_ = 'lister-item-year text-muted unbold').text\n",
    "                match = re.search('([0-9]+)', year)\n",
    "                year = year[match.start() : match.end()]\n",
    "                rating = container.strong.text.strip()\n",
    "                writer.writerow({'title': title, 'year': year, 'director': director, 'cast': cast, 'imdb_rating': rating})\n",
    "\n",
    "def create_db():\n",
    "    create_csv()\n",
    "    conn = sqlite3.connect('top_1000.db')\n",
    "    c = conn.cursor()\n",
    "    c.execute('CREATE TABLE top_1000 (title, year, director, cast, imdb_rating);')\n",
    "    with open('top_1000.csv', 'r', -1, \"utf-8\") as csv_file:\n",
    "        dr = csv.DictReader(csv_file)\n",
    "        to_db = [(i['title'], i['year'], i['director'], i['cast'], i['imdb_rating']) for i in dr]\n",
    "    c.executemany('INSERT INTO top_1000 (title, year, director, cast, imdb_rating) VALUES (?, ?, ?, ?, ?);', to_db)\n",
    "    conn.commit()\n",
    "    conn.close()\n",
    "\n",
    "create_db()"
   ]
  },
  {
   "cell_type": "code",
   "execution_count": 61,
   "metadata": {},
   "outputs": [
    {
     "data": {
      "text/html": [
       "<div>\n",
       "<style scoped>\n",
       "    .dataframe tbody tr th:only-of-type {\n",
       "        vertical-align: middle;\n",
       "    }\n",
       "\n",
       "    .dataframe tbody tr th {\n",
       "        vertical-align: top;\n",
       "    }\n",
       "\n",
       "    .dataframe thead th {\n",
       "        text-align: right;\n",
       "    }\n",
       "</style>\n",
       "<table border=\"1\" class=\"dataframe\">\n",
       "  <thead>\n",
       "    <tr style=\"text-align: right;\">\n",
       "      <th></th>\n",
       "      <th>title</th>\n",
       "      <th>year</th>\n",
       "      <th>director</th>\n",
       "      <th>cast</th>\n",
       "      <th>imdb_rating</th>\n",
       "    </tr>\n",
       "  </thead>\n",
       "  <tbody>\n",
       "    <tr>\n",
       "      <th>0</th>\n",
       "      <td>The Shawshank Redemption</td>\n",
       "      <td>1994</td>\n",
       "      <td>Frank Darabont</td>\n",
       "      <td>Tim Robbins, Morgan Freeman</td>\n",
       "      <td>9.3</td>\n",
       "    </tr>\n",
       "    <tr>\n",
       "      <th>1</th>\n",
       "      <td>Daeboo</td>\n",
       "      <td>1972</td>\n",
       "      <td>Francis Ford Coppola</td>\n",
       "      <td>Marlon Brando, Al Pacino</td>\n",
       "      <td>9.2</td>\n",
       "    </tr>\n",
       "    <tr>\n",
       "      <th>2</th>\n",
       "      <td>Soorarai Pottru</td>\n",
       "      <td>2020</td>\n",
       "      <td>Sudha Kongara</td>\n",
       "      <td>Suriya, Madhavan</td>\n",
       "      <td>9.1</td>\n",
       "    </tr>\n",
       "    <tr>\n",
       "      <th>3</th>\n",
       "      <td>The Dark Knight</td>\n",
       "      <td>2008</td>\n",
       "      <td>Christopher Nolan</td>\n",
       "      <td>Christian Bale, Heath Ledger</td>\n",
       "      <td>9.0</td>\n",
       "    </tr>\n",
       "    <tr>\n",
       "      <th>4</th>\n",
       "      <td>The Godfather: Part II</td>\n",
       "      <td>1974</td>\n",
       "      <td>Francis Ford Coppola</td>\n",
       "      <td>Al Pacino, Robert De Niro</td>\n",
       "      <td>9.0</td>\n",
       "    </tr>\n",
       "  </tbody>\n",
       "</table>\n",
       "</div>"
      ],
      "text/plain": [
       "                      title  year              director  \\\n",
       "0  The Shawshank Redemption  1994        Frank Darabont   \n",
       "1                    Daeboo  1972  Francis Ford Coppola   \n",
       "2           Soorarai Pottru  2020         Sudha Kongara   \n",
       "3           The Dark Knight  2008     Christopher Nolan   \n",
       "4    The Godfather: Part II  1974  Francis Ford Coppola   \n",
       "\n",
       "                           cast  imdb_rating  \n",
       "0   Tim Robbins, Morgan Freeman          9.3  \n",
       "1      Marlon Brando, Al Pacino          9.2  \n",
       "2              Suriya, Madhavan          9.1  \n",
       "3  Christian Bale, Heath Ledger          9.0  \n",
       "4     Al Pacino, Robert De Niro          9.0  "
      ]
     },
     "execution_count": 61,
     "metadata": {},
     "output_type": "execute_result"
    }
   ],
   "source": [
    "df = pd.read_csv('top_1000.csv')\n",
    "df.head(5)"
   ]
  },
  {
   "cell_type": "code",
   "execution_count": 102,
   "metadata": {},
   "outputs": [
    {
     "data": {
      "text/html": [
       "<div>\n",
       "<style scoped>\n",
       "    .dataframe tbody tr th:only-of-type {\n",
       "        vertical-align: middle;\n",
       "    }\n",
       "\n",
       "    .dataframe tbody tr th {\n",
       "        vertical-align: top;\n",
       "    }\n",
       "\n",
       "    .dataframe thead th {\n",
       "        text-align: right;\n",
       "    }\n",
       "</style>\n",
       "<table border=\"1\" class=\"dataframe\">\n",
       "  <thead>\n",
       "    <tr style=\"text-align: right;\">\n",
       "      <th></th>\n",
       "      <th>title</th>\n",
       "      <th>year</th>\n",
       "      <th>director</th>\n",
       "      <th>cast</th>\n",
       "      <th>imdb_rating</th>\n",
       "    </tr>\n",
       "  </thead>\n",
       "  <tbody>\n",
       "    <tr>\n",
       "      <th>995</th>\n",
       "      <td>Nuovo Cinema Paradiso</td>\n",
       "      <td>1988</td>\n",
       "      <td>Giuseppe Tornatore</td>\n",
       "      <td>Philippe Noiret, Enzo Cannavale</td>\n",
       "      <td>8.5</td>\n",
       "    </tr>\n",
       "    <tr>\n",
       "      <th>996</th>\n",
       "      <td>Hotaru no haka</td>\n",
       "      <td>1988</td>\n",
       "      <td>Isao Takahata</td>\n",
       "      <td>Tsutomu Tatsumi, Ayano Shiraishi</td>\n",
       "      <td>8.5</td>\n",
       "    </tr>\n",
       "    <tr>\n",
       "      <th>997</th>\n",
       "      <td>Back to the Future</td>\n",
       "      <td>1985</td>\n",
       "      <td>Robert Zemeckis</td>\n",
       "      <td>Michael J. Fox, Christopher Lloyd</td>\n",
       "      <td>8.5</td>\n",
       "    </tr>\n",
       "    <tr>\n",
       "      <th>998</th>\n",
       "      <td>Once Upon a Time in the West</td>\n",
       "      <td>1968</td>\n",
       "      <td>Sergio Leone</td>\n",
       "      <td>Henry Fonda, Charles Bronson</td>\n",
       "      <td>8.5</td>\n",
       "    </tr>\n",
       "    <tr>\n",
       "      <th>999</th>\n",
       "      <td>Psycho</td>\n",
       "      <td>1960</td>\n",
       "      <td>Alfred Hitchcock</td>\n",
       "      <td>Anthony Perkins, Janet Leigh</td>\n",
       "      <td>8.5</td>\n",
       "    </tr>\n",
       "  </tbody>\n",
       "</table>\n",
       "</div>"
      ],
      "text/plain": [
       "                            title  year            director  \\\n",
       "995         Nuovo Cinema Paradiso  1988  Giuseppe Tornatore   \n",
       "996                Hotaru no haka  1988       Isao Takahata   \n",
       "997            Back to the Future  1985     Robert Zemeckis   \n",
       "998  Once Upon a Time in the West  1968        Sergio Leone   \n",
       "999                        Psycho  1960    Alfred Hitchcock   \n",
       "\n",
       "                                  cast  imdb_rating  \n",
       "995    Philippe Noiret, Enzo Cannavale          8.5  \n",
       "996   Tsutomu Tatsumi, Ayano Shiraishi          8.5  \n",
       "997  Michael J. Fox, Christopher Lloyd          8.5  \n",
       "998       Henry Fonda, Charles Bronson          8.5  \n",
       "999       Anthony Perkins, Janet Leigh          8.5  "
      ]
     },
     "execution_count": 102,
     "metadata": {},
     "output_type": "execute_result"
    }
   ],
   "source": [
    "df.tail(5)\n",
    "\n",
    "\n",
    "\n"
   ]
  },
  {
   "cell_type": "code",
   "execution_count": 107,
   "metadata": {},
   "outputs": [
    {
     "name": "stdout",
     "output_type": "stream",
     "text": [
      "<class 'pandas.core.frame.DataFrame'>\n",
      "RangeIndex: 1000 entries, 0 to 999\n",
      "Data columns (total 5 columns):\n",
      "title          1000 non-null object\n",
      "year           1000 non-null int64\n",
      "director       1000 non-null object\n",
      "cast           1000 non-null object\n",
      "imdb_rating    1000 non-null float64\n",
      "dtypes: float64(1), int64(1), object(3)\n",
      "memory usage: 39.1+ KB\n"
     ]
    }
   ],
   "source": [
    "df.imdb_rating\n",
    "df.info()"
   ]
  },
  {
   "cell_type": "code",
   "execution_count": 119,
   "metadata": {},
   "outputs": [],
   "source": [
    "def ratingTolevel(x):\n",
    "    if x >=9.0:\n",
    "        return 'A'    \n",
    "    elif x >=8.8 and x<9.0:\n",
    "        return 'B'\n",
    "    else:\n",
    "        return 'C'"
   ]
  },
  {
   "cell_type": "code",
   "execution_count": 121,
   "metadata": {},
   "outputs": [],
   "source": [
    "df['level'] = df.imdb_rating.map(ratingTolevel)"
   ]
  },
  {
   "cell_type": "code",
   "execution_count": 122,
   "metadata": {},
   "outputs": [
    {
     "data": {
      "text/html": [
       "<div>\n",
       "<style scoped>\n",
       "    .dataframe tbody tr th:only-of-type {\n",
       "        vertical-align: middle;\n",
       "    }\n",
       "\n",
       "    .dataframe tbody tr th {\n",
       "        vertical-align: top;\n",
       "    }\n",
       "\n",
       "    .dataframe thead th {\n",
       "        text-align: right;\n",
       "    }\n",
       "</style>\n",
       "<table border=\"1\" class=\"dataframe\">\n",
       "  <thead>\n",
       "    <tr style=\"text-align: right;\">\n",
       "      <th></th>\n",
       "      <th>title</th>\n",
       "      <th>year</th>\n",
       "      <th>director</th>\n",
       "      <th>cast</th>\n",
       "      <th>imdb_rating</th>\n",
       "      <th>level</th>\n",
       "      <th>titleLen</th>\n",
       "    </tr>\n",
       "  </thead>\n",
       "  <tbody>\n",
       "    <tr>\n",
       "      <th>0</th>\n",
       "      <td>The Shawshank Redemption</td>\n",
       "      <td>1994</td>\n",
       "      <td>Frank Darabont</td>\n",
       "      <td>Tim Robbins, Morgan Freeman</td>\n",
       "      <td>9.3</td>\n",
       "      <td>A</td>\n",
       "      <td>24</td>\n",
       "    </tr>\n",
       "    <tr>\n",
       "      <th>1</th>\n",
       "      <td>Daeboo</td>\n",
       "      <td>1972</td>\n",
       "      <td>Francis Ford Coppola</td>\n",
       "      <td>Marlon Brando, Al Pacino</td>\n",
       "      <td>9.2</td>\n",
       "      <td>A</td>\n",
       "      <td>6</td>\n",
       "    </tr>\n",
       "    <tr>\n",
       "      <th>2</th>\n",
       "      <td>Soorarai Pottru</td>\n",
       "      <td>2020</td>\n",
       "      <td>Sudha Kongara</td>\n",
       "      <td>Suriya, Madhavan</td>\n",
       "      <td>9.1</td>\n",
       "      <td>A</td>\n",
       "      <td>15</td>\n",
       "    </tr>\n",
       "    <tr>\n",
       "      <th>3</th>\n",
       "      <td>The Dark Knight</td>\n",
       "      <td>2008</td>\n",
       "      <td>Christopher Nolan</td>\n",
       "      <td>Christian Bale, Heath Ledger</td>\n",
       "      <td>9.0</td>\n",
       "      <td>A</td>\n",
       "      <td>15</td>\n",
       "    </tr>\n",
       "    <tr>\n",
       "      <th>4</th>\n",
       "      <td>The Godfather: Part II</td>\n",
       "      <td>1974</td>\n",
       "      <td>Francis Ford Coppola</td>\n",
       "      <td>Al Pacino, Robert De Niro</td>\n",
       "      <td>9.0</td>\n",
       "      <td>A</td>\n",
       "      <td>22</td>\n",
       "    </tr>\n",
       "  </tbody>\n",
       "</table>\n",
       "</div>"
      ],
      "text/plain": [
       "                      title  year              director  \\\n",
       "0  The Shawshank Redemption  1994        Frank Darabont   \n",
       "1                    Daeboo  1972  Francis Ford Coppola   \n",
       "2           Soorarai Pottru  2020         Sudha Kongara   \n",
       "3           The Dark Knight  2008     Christopher Nolan   \n",
       "4    The Godfather: Part II  1974  Francis Ford Coppola   \n",
       "\n",
       "                           cast  imdb_rating level  titleLen  \n",
       "0   Tim Robbins, Morgan Freeman          9.3     A        24  \n",
       "1      Marlon Brando, Al Pacino          9.2     A         6  \n",
       "2              Suriya, Madhavan          9.1     A        15  \n",
       "3  Christian Bale, Heath Ledger          9.0     A        15  \n",
       "4     Al Pacino, Robert De Niro          9.0     A        22  "
      ]
     },
     "execution_count": 122,
     "metadata": {},
     "output_type": "execute_result"
    }
   ],
   "source": [
    "df.head()"
   ]
  },
  {
   "cell_type": "code",
   "execution_count": 123,
   "metadata": {},
   "outputs": [],
   "source": [
    "def numberOfTitle(x):\n",
    "    titleLen = len(x)\n",
    "    return titleLen"
   ]
  },
  {
   "cell_type": "code",
   "execution_count": 124,
   "metadata": {},
   "outputs": [],
   "source": [
    "df['titleLen'] = df.title.map(numberOfTitle)\n",
    "    "
   ]
  },
  {
   "cell_type": "code",
   "execution_count": 125,
   "metadata": {},
   "outputs": [
    {
     "data": {
      "text/html": [
       "<div>\n",
       "<style scoped>\n",
       "    .dataframe tbody tr th:only-of-type {\n",
       "        vertical-align: middle;\n",
       "    }\n",
       "\n",
       "    .dataframe tbody tr th {\n",
       "        vertical-align: top;\n",
       "    }\n",
       "\n",
       "    .dataframe thead th {\n",
       "        text-align: right;\n",
       "    }\n",
       "</style>\n",
       "<table border=\"1\" class=\"dataframe\">\n",
       "  <thead>\n",
       "    <tr style=\"text-align: right;\">\n",
       "      <th></th>\n",
       "      <th>title</th>\n",
       "      <th>year</th>\n",
       "      <th>director</th>\n",
       "      <th>cast</th>\n",
       "      <th>imdb_rating</th>\n",
       "      <th>level</th>\n",
       "      <th>titleLen</th>\n",
       "    </tr>\n",
       "  </thead>\n",
       "  <tbody>\n",
       "    <tr>\n",
       "      <th>0</th>\n",
       "      <td>The Shawshank Redemption</td>\n",
       "      <td>1994</td>\n",
       "      <td>Frank Darabont</td>\n",
       "      <td>Tim Robbins, Morgan Freeman</td>\n",
       "      <td>9.3</td>\n",
       "      <td>A</td>\n",
       "      <td>24</td>\n",
       "    </tr>\n",
       "    <tr>\n",
       "      <th>1</th>\n",
       "      <td>Daeboo</td>\n",
       "      <td>1972</td>\n",
       "      <td>Francis Ford Coppola</td>\n",
       "      <td>Marlon Brando, Al Pacino</td>\n",
       "      <td>9.2</td>\n",
       "      <td>A</td>\n",
       "      <td>6</td>\n",
       "    </tr>\n",
       "    <tr>\n",
       "      <th>2</th>\n",
       "      <td>Soorarai Pottru</td>\n",
       "      <td>2020</td>\n",
       "      <td>Sudha Kongara</td>\n",
       "      <td>Suriya, Madhavan</td>\n",
       "      <td>9.1</td>\n",
       "      <td>A</td>\n",
       "      <td>15</td>\n",
       "    </tr>\n",
       "    <tr>\n",
       "      <th>3</th>\n",
       "      <td>The Dark Knight</td>\n",
       "      <td>2008</td>\n",
       "      <td>Christopher Nolan</td>\n",
       "      <td>Christian Bale, Heath Ledger</td>\n",
       "      <td>9.0</td>\n",
       "      <td>A</td>\n",
       "      <td>15</td>\n",
       "    </tr>\n",
       "    <tr>\n",
       "      <th>4</th>\n",
       "      <td>The Godfather: Part II</td>\n",
       "      <td>1974</td>\n",
       "      <td>Francis Ford Coppola</td>\n",
       "      <td>Al Pacino, Robert De Niro</td>\n",
       "      <td>9.0</td>\n",
       "      <td>A</td>\n",
       "      <td>22</td>\n",
       "    </tr>\n",
       "  </tbody>\n",
       "</table>\n",
       "</div>"
      ],
      "text/plain": [
       "                      title  year              director  \\\n",
       "0  The Shawshank Redemption  1994        Frank Darabont   \n",
       "1                    Daeboo  1972  Francis Ford Coppola   \n",
       "2           Soorarai Pottru  2020         Sudha Kongara   \n",
       "3           The Dark Knight  2008     Christopher Nolan   \n",
       "4    The Godfather: Part II  1974  Francis Ford Coppola   \n",
       "\n",
       "                           cast  imdb_rating level  titleLen  \n",
       "0   Tim Robbins, Morgan Freeman          9.3     A        24  \n",
       "1      Marlon Brando, Al Pacino          9.2     A         6  \n",
       "2              Suriya, Madhavan          9.1     A        15  \n",
       "3  Christian Bale, Heath Ledger          9.0     A        15  \n",
       "4     Al Pacino, Robert De Niro          9.0     A        22  "
      ]
     },
     "execution_count": 125,
     "metadata": {},
     "output_type": "execute_result"
    }
   ],
   "source": [
    "df.head()"
   ]
  },
  {
   "cell_type": "code",
   "execution_count": 129,
   "metadata": {},
   "outputs": [],
   "source": [
    "def yearToDecade(x):\n",
    "    if x >=2000:\n",
    "        return '21c'    \n",
    "    elif x >=1990 and x<2000:\n",
    "        return '90s'\n",
    "    elif x >=1980 and x<1990:\n",
    "        return '80s'\n",
    "    elif x >=1970 and x<1980:\n",
    "        return '70s'\n",
    "    else:\n",
    "        return '60s'"
   ]
  },
  {
   "cell_type": "code",
   "execution_count": 131,
   "metadata": {},
   "outputs": [],
   "source": [
    "df['decade'] = df.year.map(yearToDecade)"
   ]
  },
  {
   "cell_type": "code",
   "execution_count": 132,
   "metadata": {},
   "outputs": [
    {
     "data": {
      "text/html": [
       "<div>\n",
       "<style scoped>\n",
       "    .dataframe tbody tr th:only-of-type {\n",
       "        vertical-align: middle;\n",
       "    }\n",
       "\n",
       "    .dataframe tbody tr th {\n",
       "        vertical-align: top;\n",
       "    }\n",
       "\n",
       "    .dataframe thead th {\n",
       "        text-align: right;\n",
       "    }\n",
       "</style>\n",
       "<table border=\"1\" class=\"dataframe\">\n",
       "  <thead>\n",
       "    <tr style=\"text-align: right;\">\n",
       "      <th></th>\n",
       "      <th>title</th>\n",
       "      <th>year</th>\n",
       "      <th>director</th>\n",
       "      <th>cast</th>\n",
       "      <th>imdb_rating</th>\n",
       "      <th>level</th>\n",
       "      <th>titleLen</th>\n",
       "      <th>decade</th>\n",
       "    </tr>\n",
       "  </thead>\n",
       "  <tbody>\n",
       "    <tr>\n",
       "      <th>0</th>\n",
       "      <td>The Shawshank Redemption</td>\n",
       "      <td>1994</td>\n",
       "      <td>Frank Darabont</td>\n",
       "      <td>Tim Robbins, Morgan Freeman</td>\n",
       "      <td>9.3</td>\n",
       "      <td>A</td>\n",
       "      <td>24</td>\n",
       "      <td>90s</td>\n",
       "    </tr>\n",
       "    <tr>\n",
       "      <th>1</th>\n",
       "      <td>Daeboo</td>\n",
       "      <td>1972</td>\n",
       "      <td>Francis Ford Coppola</td>\n",
       "      <td>Marlon Brando, Al Pacino</td>\n",
       "      <td>9.2</td>\n",
       "      <td>A</td>\n",
       "      <td>6</td>\n",
       "      <td>70s</td>\n",
       "    </tr>\n",
       "    <tr>\n",
       "      <th>2</th>\n",
       "      <td>Soorarai Pottru</td>\n",
       "      <td>2020</td>\n",
       "      <td>Sudha Kongara</td>\n",
       "      <td>Suriya, Madhavan</td>\n",
       "      <td>9.1</td>\n",
       "      <td>A</td>\n",
       "      <td>15</td>\n",
       "      <td>21c</td>\n",
       "    </tr>\n",
       "    <tr>\n",
       "      <th>3</th>\n",
       "      <td>The Dark Knight</td>\n",
       "      <td>2008</td>\n",
       "      <td>Christopher Nolan</td>\n",
       "      <td>Christian Bale, Heath Ledger</td>\n",
       "      <td>9.0</td>\n",
       "      <td>A</td>\n",
       "      <td>15</td>\n",
       "      <td>21c</td>\n",
       "    </tr>\n",
       "    <tr>\n",
       "      <th>4</th>\n",
       "      <td>The Godfather: Part II</td>\n",
       "      <td>1974</td>\n",
       "      <td>Francis Ford Coppola</td>\n",
       "      <td>Al Pacino, Robert De Niro</td>\n",
       "      <td>9.0</td>\n",
       "      <td>A</td>\n",
       "      <td>22</td>\n",
       "      <td>70s</td>\n",
       "    </tr>\n",
       "  </tbody>\n",
       "</table>\n",
       "</div>"
      ],
      "text/plain": [
       "                      title  year              director  \\\n",
       "0  The Shawshank Redemption  1994        Frank Darabont   \n",
       "1                    Daeboo  1972  Francis Ford Coppola   \n",
       "2           Soorarai Pottru  2020         Sudha Kongara   \n",
       "3           The Dark Knight  2008     Christopher Nolan   \n",
       "4    The Godfather: Part II  1974  Francis Ford Coppola   \n",
       "\n",
       "                           cast  imdb_rating level  titleLen decade  \n",
       "0   Tim Robbins, Morgan Freeman          9.3     A        24    90s  \n",
       "1      Marlon Brando, Al Pacino          9.2     A         6    70s  \n",
       "2              Suriya, Madhavan          9.1     A        15    21c  \n",
       "3  Christian Bale, Heath Ledger          9.0     A        15    21c  \n",
       "4     Al Pacino, Robert De Niro          9.0     A        22    70s  "
      ]
     },
     "execution_count": 132,
     "metadata": {},
     "output_type": "execute_result"
    }
   ],
   "source": [
    "df.head()"
   ]
  },
  {
   "cell_type": "code",
   "execution_count": null,
   "metadata": {},
   "outputs": [],
   "source": []
  },
  {
   "cell_type": "code",
   "execution_count": 160,
   "metadata": {},
   "outputs": [
    {
     "data": {
      "text/plain": [
       "array(['90s', '70s', '21c', '60s', '80s'], dtype=object)"
      ]
     },
     "execution_count": 160,
     "metadata": {},
     "output_type": "execute_result"
    }
   ],
   "source": [
    "df['decade'].unique()"
   ]
  },
  {
   "cell_type": "code",
   "execution_count": 161,
   "metadata": {},
   "outputs": [
    {
     "data": {
      "text/plain": [
       "<seaborn.axisgrid.PairGrid at 0x15ac2ecff28>"
      ]
     },
     "execution_count": 161,
     "metadata": {},
     "output_type": "execute_result"
    },
    {
     "data": {
      "image/png": "[encoded data removed]",
      "text/plain": [
       "<Figure size 591.75x540 with 12 Axes>"
      ]
     },
     "metadata": {
      "needs_background": "light"
     },
     "output_type": "display_data"
    }
   ],
   "source": [
    "sns.pairplot(df, hue=\"decade\", palette=\"husl\")"
   ]
  },
  {
   "cell_type": "markdown",
   "metadata": {},
   "source": [
    "# 데이타 전처리 "
   ]
  },
  {
   "cell_type": "code",
   "execution_count": 163,
   "metadata": {},
   "outputs": [],
   "source": [
    "X = df[[\"titleLen\",\"imdb_rating\"]]\n",
    "y = df[\"decade\"]"
   ]
  },
  {
   "cell_type": "code",
   "execution_count": 164,
   "metadata": {},
   "outputs": [
    {
     "data": {
      "text/plain": [
       "Index(['titleLen', 'imdb_rating'], dtype='object')"
      ]
     },
     "execution_count": 164,
     "metadata": {},
     "output_type": "execute_result"
    }
   ],
   "source": [
    "X.columns"
   ]
  },
  {
   "cell_type": "code",
   "execution_count": 165,
   "metadata": {},
   "outputs": [
    {
     "data": {
      "text/plain": [
       "RangeIndex(start=0, stop=1000, step=1)"
      ]
     },
     "execution_count": 165,
     "metadata": {},
     "output_type": "execute_result"
    }
   ],
   "source": [
    "y.index"
   ]
  },
  {
   "cell_type": "code",
   "execution_count": null,
   "metadata": {},
   "outputs": [],
   "source": []
  },
  {
   "cell_type": "code",
   "execution_count": null,
   "metadata": {},
   "outputs": [],
   "source": []
  },
  {
   "cell_type": "code",
   "execution_count": null,
   "metadata": {},
   "outputs": [],
   "source": []
  },
  {
   "cell_type": "markdown",
   "metadata": {},
   "source": [
    "### 학습 전용과 테스트 전용 분리하기 \n",
    "\n",
    "- 학습데이터와 데스트 전용 데이터로 분할하는 메서드 \n",
    "- 임포트 \n",
    "    - from sklearn.model_selection import train_test_split\n",
    "\n",
    "```\n",
    "    train_test_split( data, label, \n",
    "                       test_size=float, train_size=float, \n",
    "                        shuffle=True/False)\n",
    "```                    "
   ]
  },
  {
   "cell_type": "code",
   "execution_count": 166,
   "metadata": {},
   "outputs": [],
   "source": [
    "from sklearn.model_selection import train_test_split"
   ]
  },
  {
   "cell_type": "code",
   "execution_count": 167,
   "metadata": {},
   "outputs": [],
   "source": [
    "X_train, X_test, y_train, y_test \\\n",
    "    = train_test_split( X, y, test_size = 0.25, \n",
    "                         train_size = 0.75, \n",
    "                         shuffle = True)"
   ]
  },
  {
   "cell_type": "code",
   "execution_count": 168,
   "metadata": {},
   "outputs": [
    {
     "data": {
      "text/plain": [
       "((750, 2), (250, 2))"
      ]
     },
     "execution_count": 168,
     "metadata": {},
     "output_type": "execute_result"
    }
   ],
   "source": [
    "X_train.shape, X_test.shape,"
   ]
  },
  {
   "cell_type": "code",
   "execution_count": 169,
   "metadata": {},
   "outputs": [
    {
     "data": {
      "text/plain": [
       "((750,), (250,))"
      ]
     },
     "execution_count": 169,
     "metadata": {},
     "output_type": "execute_result"
    }
   ],
   "source": [
    "y_train.shape, y_test.shape"
   ]
  },
  {
   "cell_type": "code",
   "execution_count": 170,
   "metadata": {},
   "outputs": [
    {
     "data": {
      "text/html": [
       "<div>\n",
       "<style scoped>\n",
       "    .dataframe tbody tr th:only-of-type {\n",
       "        vertical-align: middle;\n",
       "    }\n",
       "\n",
       "    .dataframe tbody tr th {\n",
       "        vertical-align: top;\n",
       "    }\n",
       "\n",
       "    .dataframe thead th {\n",
       "        text-align: right;\n",
       "    }\n",
       "</style>\n",
       "<table border=\"1\" class=\"dataframe\">\n",
       "  <thead>\n",
       "    <tr style=\"text-align: right;\">\n",
       "      <th></th>\n",
       "      <th>titleLen</th>\n",
       "      <th>imdb_rating</th>\n",
       "    </tr>\n",
       "  </thead>\n",
       "  <tbody>\n",
       "    <tr>\n",
       "      <th>369</th>\n",
       "      <td>12</td>\n",
       "      <td>8.6</td>\n",
       "    </tr>\n",
       "    <tr>\n",
       "      <th>351</th>\n",
       "      <td>6</td>\n",
       "      <td>9.2</td>\n",
       "    </tr>\n",
       "    <tr>\n",
       "      <th>405</th>\n",
       "      <td>12</td>\n",
       "      <td>9.0</td>\n",
       "    </tr>\n",
       "    <tr>\n",
       "      <th>83</th>\n",
       "      <td>8</td>\n",
       "      <td>8.5</td>\n",
       "    </tr>\n",
       "    <tr>\n",
       "      <th>979</th>\n",
       "      <td>7</td>\n",
       "      <td>8.6</td>\n",
       "    </tr>\n",
       "  </tbody>\n",
       "</table>\n",
       "</div>"
      ],
      "text/plain": [
       "     titleLen  imdb_rating\n",
       "369        12          8.6\n",
       "351         6          9.2\n",
       "405        12          9.0\n",
       "83          8          8.5\n",
       "979         7          8.6"
      ]
     },
     "execution_count": 170,
     "metadata": {},
     "output_type": "execute_result"
    }
   ],
   "source": [
    "X_train.head()"
   ]
  },
  {
   "cell_type": "code",
   "execution_count": null,
   "metadata": {},
   "outputs": [],
   "source": []
  },
  {
   "cell_type": "code",
   "execution_count": null,
   "metadata": {},
   "outputs": [],
   "source": []
  },
  {
   "cell_type": "markdown",
   "metadata": {},
   "source": [
    "### 데이타 학습  : 모델링"
   ]
  },
  {
   "cell_type": "code",
   "execution_count": 171,
   "metadata": {},
   "outputs": [],
   "source": [
    "from sklearn.neighbors import KNeighborsClassifier\n",
    "from sklearn.tree import DecisionTreeClassifier\n",
    "from sklearn.ensemble import RandomForestClassifier\n",
    "from sklearn.naive_bayes import GaussianNB\n",
    "from sklearn.svm import SVC"
   ]
  },
  {
   "cell_type": "code",
   "execution_count": 172,
   "metadata": {},
   "outputs": [
    {
     "data": {
      "text/plain": [
       "SVC(C=1.0, cache_size=200, class_weight=None, coef0=0.0,\n",
       "  decision_function_shape='ovr', degree=3, gamma='auto', kernel='rbf',\n",
       "  max_iter=-1, probability=False, random_state=None, shrinking=True,\n",
       "  tol=0.001, verbose=False)"
      ]
     },
     "execution_count": 172,
     "metadata": {},
     "output_type": "execute_result"
    }
   ],
   "source": [
    "model = SVC()\n",
    "model.fit(X_train, y_train)"
   ]
  },
  {
   "cell_type": "code",
   "execution_count": 173,
   "metadata": {},
   "outputs": [
    {
     "data": {
      "text/plain": [
       "{'C': 1.0,\n",
       " 'cache_size': 200,\n",
       " 'class_weight': None,\n",
       " 'coef0': 0.0,\n",
       " 'decision_function_shape': 'ovr',\n",
       " 'degree': 3,\n",
       " 'gamma': 'auto',\n",
       " 'kernel': 'rbf',\n",
       " 'max_iter': -1,\n",
       " 'probability': False,\n",
       " 'random_state': None,\n",
       " 'shrinking': True,\n",
       " 'tol': 0.001,\n",
       " 'verbose': False}"
      ]
     },
     "execution_count": 173,
     "metadata": {},
     "output_type": "execute_result"
    }
   ],
   "source": [
    "model.get_params()"
   ]
  },
  {
   "cell_type": "code",
   "execution_count": 174,
   "metadata": {},
   "outputs": [
    {
     "data": {
      "text/plain": [
       "array(['90s', '90s', '60s', '70s', '21c', '80s', '21c', '90s', '90s',\n",
       "       '90s', '90s', '90s', '90s', '90s', '80s', '60s', '90s', '90s',\n",
       "       '21c', '60s', '90s', '90s', '21c', '90s', '90s', '21c', '90s',\n",
       "       '21c', '60s', '21c', '90s', '21c', '21c', '90s', '21c', '21c',\n",
       "       '90s', '21c', '90s', '21c', '90s', '80s', '90s', '80s', '90s',\n",
       "       '90s', '60s', '21c', '21c', '90s', '90s', '60s', '90s', '60s',\n",
       "       '90s', '60s', '21c', '21c', '90s', '60s', '90s', '21c', '90s',\n",
       "       '90s', '21c', '21c', '70s', '60s', '21c', '90s', '60s', '90s',\n",
       "       '21c', '90s', '21c', '90s', '21c', '21c', '90s', '90s', '90s',\n",
       "       '21c', '90s', '21c', '21c', '90s', '21c', '90s', '90s', '90s',\n",
       "       '60s', '80s', '21c', '21c', '60s', '21c', '60s', '60s', '90s',\n",
       "       '21c', '21c', '60s', '21c', '21c', '90s', '21c', '21c', '60s',\n",
       "       '90s', '21c', '21c', '90s', '21c', '90s', '60s', '90s', '60s',\n",
       "       '21c', '90s', '21c', '60s', '90s', '70s', '90s', '60s', '21c',\n",
       "       '60s', '21c', '21c', '21c', '21c', '60s', '80s', '90s', '21c',\n",
       "       '60s', '60s', '21c', '60s', '90s', '80s', '21c', '21c', '21c',\n",
       "       '21c', '21c', '90s', '21c', '60s', '60s', '80s', '90s', '90s',\n",
       "       '90s', '21c', '60s', '21c', '70s', '21c', '21c', '21c', '21c',\n",
       "       '80s', '21c', '90s', '90s', '90s', '60s', '90s', '21c', '60s',\n",
       "       '60s', '21c', '21c', '21c', '21c', '90s', '21c', '21c', '60s',\n",
       "       '60s', '90s', '90s', '90s', '90s', '60s', '90s', '60s', '80s',\n",
       "       '21c', '21c', '90s', '21c', '90s', '21c', '90s', '70s', '90s',\n",
       "       '60s', '21c', '90s', '21c', '21c', '80s', '21c', '21c', '70s',\n",
       "       '21c', '90s', '90s', '90s', '70s', '90s', '90s', '90s', '90s',\n",
       "       '90s', '21c', '90s', '90s', '60s', '90s', '90s', '90s', '70s',\n",
       "       '90s', '21c', '21c', '80s', '90s', '21c', '90s', '80s', '21c',\n",
       "       '60s', '90s', '21c', '21c', '60s', '21c', '60s', '90s', '90s',\n",
       "       '90s', '21c', '90s', '21c', '21c', '90s', '80s'], dtype=object)"
      ]
     },
     "execution_count": 174,
     "metadata": {},
     "output_type": "execute_result"
    }
   ],
   "source": [
    "y_pred = model.predict(X_test)\n",
    "y_pred"
   ]
  },
  {
   "cell_type": "code",
   "execution_count": 175,
   "metadata": {},
   "outputs": [
    {
     "data": {
      "text/html": [
       "<div>\n",
       "<style scoped>\n",
       "    .dataframe tbody tr th:only-of-type {\n",
       "        vertical-align: middle;\n",
       "    }\n",
       "\n",
       "    .dataframe tbody tr th {\n",
       "        vertical-align: top;\n",
       "    }\n",
       "\n",
       "    .dataframe thead th {\n",
       "        text-align: right;\n",
       "    }\n",
       "</style>\n",
       "<table border=\"1\" class=\"dataframe\">\n",
       "  <thead>\n",
       "    <tr style=\"text-align: right;\">\n",
       "      <th></th>\n",
       "      <th>title</th>\n",
       "      <th>year</th>\n",
       "      <th>director</th>\n",
       "      <th>cast</th>\n",
       "      <th>imdb_rating</th>\n",
       "      <th>level</th>\n",
       "      <th>titleLen</th>\n",
       "      <th>decade</th>\n",
       "    </tr>\n",
       "  </thead>\n",
       "  <tbody>\n",
       "    <tr>\n",
       "      <th>995</th>\n",
       "      <td>Nuovo Cinema Paradiso</td>\n",
       "      <td>1988</td>\n",
       "      <td>Giuseppe Tornatore</td>\n",
       "      <td>Philippe Noiret, Enzo Cannavale</td>\n",
       "      <td>8.5</td>\n",
       "      <td>C</td>\n",
       "      <td>21</td>\n",
       "      <td>80s</td>\n",
       "    </tr>\n",
       "    <tr>\n",
       "      <th>996</th>\n",
       "      <td>Hotaru no haka</td>\n",
       "      <td>1988</td>\n",
       "      <td>Isao Takahata</td>\n",
       "      <td>Tsutomu Tatsumi, Ayano Shiraishi</td>\n",
       "      <td>8.5</td>\n",
       "      <td>C</td>\n",
       "      <td>14</td>\n",
       "      <td>80s</td>\n",
       "    </tr>\n",
       "    <tr>\n",
       "      <th>997</th>\n",
       "      <td>Back to the Future</td>\n",
       "      <td>1985</td>\n",
       "      <td>Robert Zemeckis</td>\n",
       "      <td>Michael J. Fox, Christopher Lloyd</td>\n",
       "      <td>8.5</td>\n",
       "      <td>C</td>\n",
       "      <td>18</td>\n",
       "      <td>80s</td>\n",
       "    </tr>\n",
       "    <tr>\n",
       "      <th>998</th>\n",
       "      <td>Once Upon a Time in the West</td>\n",
       "      <td>1968</td>\n",
       "      <td>Sergio Leone</td>\n",
       "      <td>Henry Fonda, Charles Bronson</td>\n",
       "      <td>8.5</td>\n",
       "      <td>C</td>\n",
       "      <td>28</td>\n",
       "      <td>60s</td>\n",
       "    </tr>\n",
       "    <tr>\n",
       "      <th>999</th>\n",
       "      <td>Psycho</td>\n",
       "      <td>1960</td>\n",
       "      <td>Alfred Hitchcock</td>\n",
       "      <td>Anthony Perkins, Janet Leigh</td>\n",
       "      <td>8.5</td>\n",
       "      <td>C</td>\n",
       "      <td>6</td>\n",
       "      <td>60s</td>\n",
       "    </tr>\n",
       "  </tbody>\n",
       "</table>\n",
       "</div>"
      ],
      "text/plain": [
       "                            title  year            director  \\\n",
       "995         Nuovo Cinema Paradiso  1988  Giuseppe Tornatore   \n",
       "996                Hotaru no haka  1988       Isao Takahata   \n",
       "997            Back to the Future  1985     Robert Zemeckis   \n",
       "998  Once Upon a Time in the West  1968        Sergio Leone   \n",
       "999                        Psycho  1960    Alfred Hitchcock   \n",
       "\n",
       "                                  cast  imdb_rating level  titleLen decade  \n",
       "995    Philippe Noiret, Enzo Cannavale          8.5     C        21    80s  \n",
       "996   Tsutomu Tatsumi, Ayano Shiraishi          8.5     C        14    80s  \n",
       "997  Michael J. Fox, Christopher Lloyd          8.5     C        18    80s  \n",
       "998       Henry Fonda, Charles Bronson          8.5     C        28    60s  \n",
       "999       Anthony Perkins, Janet Leigh          8.5     C         6    60s  "
      ]
     },
     "execution_count": 175,
     "metadata": {},
     "output_type": "execute_result"
    }
   ],
   "source": [
    "df.tail()"
   ]
  },
  {
   "cell_type": "code",
   "execution_count": 179,
   "metadata": {},
   "outputs": [
    {
     "data": {
      "text/plain": [
       "array(['90s'], dtype=object)"
      ]
     },
     "execution_count": 179,
     "metadata": {},
     "output_type": "execute_result"
    }
   ],
   "source": [
    "model.predict([[10, 9.2]])"
   ]
  },
  {
   "cell_type": "markdown",
   "metadata": {},
   "source": [
    "### 데이터 예측 "
   ]
  },
  {
   "cell_type": "code",
   "execution_count": 180,
   "metadata": {},
   "outputs": [
    {
     "data": {
      "text/plain": [
       "array(['21c'], dtype=object)"
      ]
     },
     "execution_count": 180,
     "metadata": {},
     "output_type": "execute_result"
    }
   ],
   "source": [
    "model.predict([[30, 8.7]])"
   ]
  },
  {
   "cell_type": "code",
   "execution_count": 181,
   "metadata": {},
   "outputs": [
    {
     "data": {
      "text/plain": [
       "array(['90s'], dtype=object)"
      ]
     },
     "execution_count": 181,
     "metadata": {},
     "output_type": "execute_result"
    }
   ],
   "source": [
    "model.predict([[5, 9.0]])"
   ]
  },
  {
   "cell_type": "code",
   "execution_count": 182,
   "metadata": {},
   "outputs": [
    {
     "data": {
      "text/plain": [
       "array(['90s'], dtype=object)"
      ]
     },
     "execution_count": 182,
     "metadata": {},
     "output_type": "execute_result"
    }
   ],
   "source": [
    "model.predict([[5, 8.5]])"
   ]
  },
  {
   "cell_type": "code",
   "execution_count": 183,
   "metadata": {},
   "outputs": [
    {
     "data": {
      "text/plain": [
       "array(['21c'], dtype=object)"
      ]
     },
     "execution_count": 183,
     "metadata": {},
     "output_type": "execute_result"
    }
   ],
   "source": [
    "model.predict([[30, 9.7]])"
   ]
  },
  {
   "cell_type": "code",
   "execution_count": null,
   "metadata": {},
   "outputs": [],
   "source": []
  },
  {
   "cell_type": "code",
   "execution_count": null,
   "metadata": {},
   "outputs": [],
   "source": []
  },
  {
   "cell_type": "code",
   "execution_count": null,
   "metadata": {},
   "outputs": [],
   "source": []
  },
  {
   "cell_type": "markdown",
   "metadata": {},
   "source": [
    "### 결과 확인 \n",
    "\n",
    "metrics.accuracy_score(label, clf.predict(data))"
   ]
  },
  {
   "cell_type": "code",
   "execution_count": 184,
   "metadata": {},
   "outputs": [],
   "source": [
    "from sklearn.metrics import mean_squared_error, accuracy_score"
   ]
  },
  {
   "cell_type": "code",
   "execution_count": 185,
   "metadata": {},
   "outputs": [
    {
     "name": "stdout",
     "output_type": "stream",
     "text": [
      "정답률 =  0.84\n"
     ]
    }
   ],
   "source": [
    "print(\"정답률 = \" , accuracy_score(y_test, y_pred))"
   ]
  },
  {
   "cell_type": "code",
   "execution_count": null,
   "metadata": {},
   "outputs": [],
   "source": []
  },
  {
   "cell_type": "code",
   "execution_count": null,
   "metadata": {},
   "outputs": [],
   "source": []
  },
  {
   "cell_type": "code",
   "execution_count": null,
   "metadata": {},
   "outputs": [],
   "source": []
  },
  {
   "cell_type": "code",
   "execution_count": null,
   "metadata": {},
   "outputs": [],
   "source": []
  }
 ],
 "metadata": {
  "kernelspec": {
   "display_name": "Python 3",
   "language": "python",
   "name": "python3"
  },
  "language_info": {
   "codemirror_mode": {
    "name": "ipython",
    "version": 3
   },
   "file_extension": ".py",
   "mimetype": "text/x-python",
   "name": "python",
   "nbconvert_exporter": "python",
   "pygments_lexer": "ipython3",
   "version": "3.7.0"
  }
 },
 "nbformat": 4,
 "nbformat_minor": 2
}
